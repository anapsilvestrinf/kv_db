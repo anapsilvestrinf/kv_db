{
 "cells": [
  {
   "cell_type": "markdown",
   "metadata": {
    "collapsed": true
   },
   "source": [
    "# Implementing a Key-Value Database"
   ]
  },
  {
   "cell_type": "markdown",
   "metadata": {},
   "source": [
    "## Introduction"
   ]
  },
  {
   "cell_type": "markdown",
   "metadata": {},
   "source": [
    "In this project, our goal is to extend a BTree implementation to implement a key-value store class named KVStore. This key-value store will work as a Python dictionary, and it will be able to perform range queries."
   ]
  },
  {
   "cell_type": "markdown",
   "metadata": {},
   "source": [
    "## Importing and Initializing"
   ]
  },
  {
   "cell_type": "code",
   "execution_count": 1,
   "metadata": {},
   "outputs": [],
   "source": [
    "# Import the previously created B-Tree\n",
    "from btree import BTree\n",
    "\n",
    "class KVStore(BTree):\n",
    "    def __init__(self):\n",
    "        super().__init__(split_threshold=2)"
   ]
  },
  {
   "cell_type": "markdown",
   "metadata": {},
   "source": [
    "## Overriding the Add Method"
   ]
  },
  {
   "cell_type": "markdown",
   "metadata": {},
   "source": [
    "The add() method from the BTree class can add multiple entries with the same key, but we don't want to have this behavior in this new class.\n",
    "\n",
    "To solve this,  we can create a new method with the same name inside the KVStore and it will override the one from the other class."
   ]
  },
  {
   "cell_type": "code",
   "execution_count": 2,
   "metadata": {},
   "outputs": [],
   "source": [
    "class KVStore(BTree):\n",
    "    def __init__(self):\n",
    "        super().__init__(split_threshold=2)\n",
    "    # New add method\n",
    "    def add(self, key, value):\n",
    "        node = self._find_node(self.root, key)\n",
    "        if node is None:\n",
    "            return super().add(key, value)\n",
    "        else:\n",
    "            for index, node_key in enumerate(node.keys):\n",
    "                if node_key == key:\n",
    "                    node.values[index] = value  "
   ]
  },
  {
   "cell_type": "markdown",
   "metadata": {},
   "source": [
    "### Testing"
   ]
  },
  {
   "cell_type": "code",
   "execution_count": 3,
   "metadata": {},
   "outputs": [],
   "source": [
    "# Test if the split threshold of a KVStore equals 2\n",
    "kv = KVStore()\n",
    "assert kv.split_threshold == 2, 'The split is not equal to 2.'\n",
    "\n",
    "# Test if we get the same value that was added\n",
    "kv.add(1, 'same value')\n",
    "assert kv.get_value(1) == 'same value', 'It doesn\\'t get the same value that was added'\n",
    "\n",
    "# Test if the value uptades when we add two entries with the same key and different values\n",
    "kv.add(1, 'update')\n",
    "assert kv.get_value(1) == 'update', 'It doesn\\'t update entries with the same key'"
   ]
  },
  {
   "cell_type": "markdown",
   "metadata": {},
   "source": [
    "## Implementing the Item Getter and Setter"
   ]
  },
  {
   "cell_type": "markdown",
   "metadata": {},
   "source": [
    "We will implement those items to use bracket syntax to add entries and retrieve values."
   ]
  },
  {
   "cell_type": "code",
   "execution_count": 4,
   "metadata": {},
   "outputs": [],
   "source": [
    "class KVStore(BTree):\n",
    "    def __init__(self):\n",
    "        super().__init__(split_threshold=2)\n",
    "    # New add method\n",
    "    def add(self, key, value):\n",
    "        node = self._find_node(self.root, key)\n",
    "        if node is None:\n",
    "            return super().add(key, value)\n",
    "        else:\n",
    "            for index, node_key in enumerate(node.keys):\n",
    "                if node_key == key:\n",
    "                    node.values[index] = value  \n",
    "    \n",
    "    # Get value by using bracket syntax\n",
    "    def __getitem__(self, key):\n",
    "        return self.get_value(key)\n",
    "    \n",
    "    # Add value by using bracket syntax\n",
    "    def __setitem__(self, key, value):\n",
    "        self.add(key, value)"
   ]
  },
  {
   "cell_type": "markdown",
   "metadata": {},
   "source": [
    "### Testing"
   ]
  },
  {
   "cell_type": "code",
   "execution_count": 5,
   "metadata": {},
   "outputs": [],
   "source": [
    "kv = KVStore()\n",
    "\n",
    "# Set values\n",
    "for key in range(0, 10):\n",
    "    kv[key] = key\n",
    "    \n",
    "# Test set item\n",
    "for key in range(0, 10):\n",
    "    assert kv[key] == key, 'Wrong value'\n",
    "    \n",
    "# Set values with same key\n",
    "for key in range(0, 10):\n",
    "    kv[key] = key + 1\n",
    "    \n",
    "for key in range(0, 10):\n",
    "    assert kv[key] == key + 1, 'Wrong value, it didn\\'t update'"
   ]
  },
  {
   "cell_type": "markdown",
   "metadata": {},
   "source": [
    "## Enhancing the Contains Method"
   ]
  },
  {
   "cell_type": "markdown",
   "metadata": {},
   "source": [
    "Another feature of the dictionary is the use of the in operator to check whether a given key is stored."
   ]
  },
  {
   "cell_type": "code",
   "execution_count": 6,
   "metadata": {},
   "outputs": [],
   "source": [
    "class KVStore(BTree):\n",
    "    def __init__(self):\n",
    "        super().__init__(split_threshold=2)\n",
    "    # New add method\n",
    "    def add(self, key, value):\n",
    "        node = self._find_node(self.root, key)\n",
    "        if node is None:\n",
    "            return super().add(key, value)\n",
    "        else:\n",
    "            for index, node_key in enumerate(node.keys):\n",
    "                if node_key == key:\n",
    "                    node.values[index] = value  \n",
    "    \n",
    "    # Get value by using bracket syntax\n",
    "    def __getitem__(self, key):\n",
    "        return self.get_value(key)\n",
    "    \n",
    "    # Add value by using bracket syntax\n",
    "    def __setitem__(self, key, value):\n",
    "        self.add(key, value)\n",
    "        \n",
    "    # Implement the use of in operator\n",
    "    def __contains__(self, key):\n",
    "        return self.contains(key)"
   ]
  },
  {
   "cell_type": "markdown",
   "metadata": {},
   "source": [
    "### Testing the In Operator"
   ]
  },
  {
   "cell_type": "code",
   "execution_count": 7,
   "metadata": {},
   "outputs": [],
   "source": [
    "# Add values\n",
    "kv = KVStore()\n",
    "for char in 'abcdfghijklmnopqrstuvwxyz':\n",
    "    kv[char] = char\n",
    "    \n",
    "# Test if the in operator works\n",
    "for char in 'abcdfghijklmnopqrst':\n",
    "    assert char in kv, 'Not in the kv'"
   ]
  },
  {
   "cell_type": "markdown",
   "metadata": {},
   "source": [
    "## Implementing Range Queries"
   ]
  },
  {
   "cell_type": "markdown",
   "metadata": {},
   "source": [
    "We will implement the feature range queries to return all values in a range. "
   ]
  },
  {
   "cell_type": "code",
   "execution_count": 8,
   "metadata": {},
   "outputs": [],
   "source": [
    "class KVStore(BTree):\n",
    "    def __init__(self):\n",
    "        super().__init__(split_threshold=2)\n",
    "    # New add method\n",
    "    def add(self, key, value):\n",
    "        node = self._find_node(self.root, key)\n",
    "        if node is None:\n",
    "            return super().add(key, value)\n",
    "        else:\n",
    "            for index, node_key in enumerate(node.keys):\n",
    "                if node_key == key:\n",
    "                    node.values[index] = value  \n",
    "    \n",
    "    # Get value by using bracket syntax\n",
    "    def __getitem__(self, key):\n",
    "        return self.get_value(key)\n",
    "    \n",
    "    # Add value by using bracket syntax\n",
    "    def __setitem__(self, key, value):\n",
    "        self.add(key, value)\n",
    "        \n",
    "    # Implement the use of in operator\n",
    "    def __contains__(self, key):\n",
    "        return self.contains(key)\n",
    "    \n",
    "    # Return values in a range\n",
    "    def _range_query(self, range_start, range_end, current_node, min_key, max_key):\n",
    "        if (max_key is not None and range_start > max_key) or (min_key is not None and range_end < min_key):\n",
    "            return []\n",
    "        results = []\n",
    "        for i, key in enumerate(current_node.keys):\n",
    "            if range_start <= key and key <= range_end:\n",
    "                results.append(current_node.values[i])\n",
    "        if not current_node.is_leaf():\n",
    "            for i, child in enumerate(current_node.children):\n",
    "                new_min_key = current_node.keys[i - 1] if i > 0 else min_key\n",
    "                new_max_key = current_node.keys[i] if i < len(current_node) else max_key\n",
    "                results += self._range_query(range_start, range_end, child, new_min_key, new_max_key)\n",
    "        return results \n",
    "\n",
    "    def range_query(self, range_start, range_end):\n",
    "        return self._range_query(range_start, range_end, self.root, float('-inf'), float('inf'))"
   ]
  },
  {
   "cell_type": "markdown",
   "metadata": {},
   "source": [
    "### Testing Range Queries"
   ]
  },
  {
   "cell_type": "code",
   "execution_count": 9,
   "metadata": {},
   "outputs": [],
   "source": [
    "# Baseline to compare results\n",
    "class DictKVStore(dict):\n",
    "\n",
    "    def range_query(self, range_start, range_end):\n",
    "        result = []\n",
    "        for key in self.keys():\n",
    "            if range_start <= key and key <= range_end:\n",
    "                result.append(self[key])\n",
    "        return result\n",
    "    \n",
    "# Test range queries from KVStore\n",
    "from random import randint\n",
    "\n",
    "dict_kv = DictKVStore()\n",
    "our_kv = KVStore()\n",
    "for i in range(1000):\n",
    "    key = randint(1, 1000)\n",
    "    value = randint(1, 10000)\n",
    "    dict_kv[value] = value\n",
    "    our_kv[value] = value\n",
    "\n",
    "for _ in range(1000):\n",
    "    range_start = randint(1, 1000)\n",
    "    range_end = randint(range_start, 1000)\n",
    "    dict_res = sorted(dict_kv.range_query(range_start, range_end))\n",
    "    our_res = sorted(our_kv.range_query(range_start, range_end))\n",
    "    assert dict_res == our_res, \"Data structures don't return the same range query result.\""
   ]
  },
  {
   "cell_type": "markdown",
   "metadata": {},
   "source": [
    "## Random Tests"
   ]
  },
  {
   "cell_type": "markdown",
   "metadata": {},
   "source": [
    "Now we will test the whole implementation."
   ]
  },
  {
   "cell_type": "code",
   "execution_count": 10,
   "metadata": {},
   "outputs": [
    {
     "name": "stdout",
     "output_type": "stream",
     "text": [
      "Testing Insertion\n",
      "Testing Length\n",
      "Testing Values\n",
      "Testing in Operator\n",
      "Testing Range Queries\n"
     ]
    }
   ],
   "source": [
    "dict_kv = DictKVStore()\n",
    "kv = KVStore()\n",
    "\n",
    "print(\"Testing Insertion\")\n",
    "for _ in range(1000):\n",
    "    key = randint(0, 1000)\n",
    "    value = randint(0, 1000000)\n",
    "    dict_kv[key] = value\n",
    "    kv[key] = value\n",
    "    \n",
    "print(\"Testing Length\")\n",
    "assert len(dict_kv) == len(kv), \"Wrong length. Length should be {} but is {}.\".format(len(dict_kv), len(kv))\n",
    "    \n",
    "print(\"Testing Values\")\n",
    "for key in dict_kv:\n",
    "    assert dict_kv[key] == kv[key], \"Wrong value for key {}. Expected value {} but found value {}.\".format(key, dict_kv[key], kv[key])\n",
    "\n",
    "print(\"Testing in Operator\")\n",
    "for i in range(1000):\n",
    "    key = randint(0, 1000)\n",
    "    assert (key in dict_kv) == (key in kv), \"Contains method did not return the correct value for key {}.\".format(key)\n",
    "\n",
    "\n",
    "print(\"Testing Range Queries\")\n",
    "for _ in range(1000):\n",
    "    range_start = randint(0, 1000)\n",
    "    range_end = randint(range_start, 1000)\n",
    "    dict_results = dict_kv.range_query(range_start, range_end)\n",
    "    kv_results = kv.range_query(range_start, range_end)\n",
    "    assert len(dict_results) == len(kv_results), \"Wrong number of results in range query [{}, {}]. Should be {} but was {}.\".format(range_start, range_end, len(dict_results), len(kv_results))\n",
    "    dict_results.sort()\n",
    "    kv_results.sort()\n",
    "    assert dict_results == kv_results, \"The Range Queries are not the same.\""
   ]
  },
  {
   "cell_type": "markdown",
   "metadata": {},
   "source": [
    "## Conclusion: Performance Testing"
   ]
  },
  {
   "cell_type": "markdown",
   "metadata": {},
   "source": [
    "Lastly, we will compare the runtime of the range_query() of the DictKVStore and KVStore by loading all entries from the entries.csv file."
   ]
  },
  {
   "cell_type": "code",
   "execution_count": 11,
   "metadata": {},
   "outputs": [
    {
     "data": {
      "image/png": "[encoded data removed]",
      "text/plain": [
       "<Figure size 600x400 with 1 Axes>"
      ]
     },
     "metadata": {},
     "output_type": "display_data"
    }
   ],
   "source": [
    "import matplotlib.pyplot as plt\n",
    "%matplotlib inline\n",
    "import time\n",
    "\n",
    "dict_kv = DictKVStore()\n",
    "kv = KVStore()\n",
    "\n",
    "# Load entries\n",
    "for _ in range(50000):\n",
    "    key = randint(0, 100000)\n",
    "    value = randint(0, 1000000)\n",
    "    dict_kv[key] = value\n",
    "    kv[key] = value\n",
    "    \n",
    "# Measure time range queries    \n",
    "range_start = 1\n",
    "range_end = 1\n",
    "time_ratios = []\n",
    "for _ in range(500):\n",
    "    start = time.time()\n",
    "    dict_kv.range_query(range_start, range_end)\n",
    "    end = time.time()\n",
    "    time_dict = end - start\n",
    "\n",
    "    start = time.time()\n",
    "    kv.range_query(range_start, range_end)\n",
    "    end = time.time()\n",
    "    time_kv = end - start\n",
    "\n",
    "    time_ratios.append(time_dict / time_kv)\n",
    "    range_end += 10\n",
    "    \n",
    "# Plot chart\n",
    "plt.plot(time_ratios)\n",
    "plt.xlabel('Query range result size')\n",
    "plt.ylabel('Runtime ratio')\n",
    "plt.show()"
   ]
  },
  {
   "cell_type": "markdown",
   "metadata": {},
   "source": [
    "For 50,000 entries, we get a performance boost of more than 40 times, and this ratio means that our KVStore implementation was more than forty times faster than DictKVStore. This performance decreases as the size of the query increases since large ranges need to iterate more entries in the tree."
   ]
  }
 ],
 "metadata": {
  "kernelspec": {
   "display_name": "Python 3",
   "language": "python",
   "name": "python3"
  },
  "language_info": {
   "codemirror_mode": {
    "name": "ipython",
    "version": 3
   },
   "file_extension": ".py",
   "mimetype": "text/x-python",
   "name": "python",
   "nbconvert_exporter": "python",
   "pygments_lexer": "ipython3",
   "version": "3.8.2"
  }
 },
 "nbformat": 4,
 "nbformat_minor": 1
}
